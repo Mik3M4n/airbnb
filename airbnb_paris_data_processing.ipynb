{
 "cells": [
  {
   "cell_type": "markdown",
   "metadata": {
    "deletable": true,
    "editable": true
   },
   "source": [
    "# Airbnb in Paris: geographic data visualization and other ideas\n",
    "\n",
    "This notebook is inteded to explore the distriution of airbnbs in Paris. Data are available at http://insideairbnb.com . \n",
    "So far, I concentrate on data visualization and try to learn to use the libraries geopandas and geoplot for data visualisation. I start with some simple trends such as price/district, and review score/district. At the end I list some open directions to dig "
   ]
  },
  {
   "cell_type": "code",
   "execution_count": 90,
   "metadata": {
    "collapsed": false,
    "deletable": true,
    "editable": true
   },
   "outputs": [],
   "source": [
    "import pandas as pd\n",
    "import seaborn as sns\n",
    "import geopandas as gpd\n",
    "from shapely.geometry import Point\n",
    "import numpy as np\n",
    "import glob\n",
    "import math\n",
    "\n",
    "\n",
    "import warnings\n",
    "warnings.filterwarnings('ignore')\n",
    "from IPython.core.interactiveshell import InteractiveShell\n",
    "InteractiveShell.ast_node_interactivity = \"all\"\n",
    "import matplotlib.pyplot as plt\n",
    "\n"
   ]
  },
  {
   "cell_type": "markdown",
   "metadata": {
    "deletable": true,
    "editable": true
   },
   "source": [
    "# Import, explore and clean airbnb data"
   ]
  },
  {
   "cell_type": "markdown",
   "metadata": {
    "deletable": true,
    "editable": true
   },
   "source": [
    "### Uniform format for a different dataset. \n",
    "temp = pd.read_csv('data/paris_by_year/listings_large_2018-06-01.csv')\n",
    "ex = pd.read_csv('data/paris_by_year/tomslee_airbnb_paris_1478_2017-07-25.csv')\n",
    "cols = ex.columns.values\n",
    "all_cols = temp.columns.values\n",
    "cols_dict = {'id':'room_id', 'scrape_id':'survey_id','neighbourhood':'neighborhood' ,\n",
    " 'host_neighbourhood':'borough', 'review_scores_rating':'overall_satisfaction',\n",
    " 'minimum_nights':'minstay','calendar_last_scraped':'last_modified', \n",
    "             'country_code':'location',\n",
    "            'number_of_reviews':'reviews'}\n",
    "temp=temp.rename(columns=cols_dict)\n",
    "temp_small = temp[cols]\n",
    "def score_to_stars(score):\n",
    "    if math.isnan(score):\n",
    "        return score\n",
    "    else:\n",
    "        n=score/20\n",
    "        return round(n * 2) / 2\n",
    "\n",
    "temp_small['overall_satisfaction']=temp_small.overall_satisfaction.apply(score_to_stars)\n",
    "temp_small.to_csv('tomslee_airbnb_paris_2018-06-01.csv')"
   ]
  },
  {
   "cell_type": "code",
   "execution_count": 91,
   "metadata": {
    "collapsed": false,
    "deletable": true,
    "editable": true
   },
   "outputs": [],
   "source": [
    "#folder = 'data/paris_by_year/'\n",
    "#file = '*.csv'\n",
    "\n",
    "path='data/paris_by_year/*.csv'\n",
    "all_files = glob.glob(path)\n",
    "#    df_temp = pd.read_csv(path)\n",
    "\n",
    "def get_date(s1):\n",
    "    s2 = '20'\n",
    "    date = s1[s1.index(s2) + len(s2)-2:len(s1)-7]\n",
    "    return date\n",
    "   \n",
    "def all_data(files):\n",
    "    data_list = []\n",
    "    for fname in files:\n",
    "        my_df = pd.read_csv(fname)\n",
    "        my_df['date_taken'] = get_date(fname)\n",
    "        data_list.append(my_df)\n",
    "    df_all = pd.concat(data_list, ignore_index=True, axis=0)\n",
    "    return df_all\n",
    "\n"
   ]
  },
  {
   "cell_type": "code",
   "execution_count": 3,
   "metadata": {
    "collapsed": false,
    "deletable": true,
    "editable": true
   },
   "outputs": [],
   "source": [
    "df_large = all_data(all_files)"
   ]
  },
  {
   "cell_type": "code",
   "execution_count": 4,
   "metadata": {
    "collapsed": false,
    "deletable": true,
    "editable": true
   },
   "outputs": [
    {
     "data": {
      "text/plain": [
       "(898359, 18)"
      ]
     },
     "execution_count": 4,
     "metadata": {},
     "output_type": "execute_result"
    }
   ],
   "source": [
    "df = df_large.drop(columns=['Unnamed: 0','city','country','survey_id','borough' ], axis=1)\n",
    "df.shape"
   ]
  },
  {
   "cell_type": "code",
   "execution_count": 5,
   "metadata": {
    "collapsed": false,
    "deletable": true,
    "editable": true
   },
   "outputs": [
    {
     "data": {
      "text/html": [
       "<div>\n",
       "<style scoped>\n",
       "    .dataframe tbody tr th:only-of-type {\n",
       "        vertical-align: middle;\n",
       "    }\n",
       "\n",
       "    .dataframe tbody tr th {\n",
       "        vertical-align: top;\n",
       "    }\n",
       "\n",
       "    .dataframe thead th {\n",
       "        text-align: right;\n",
       "    }\n",
       "</style>\n",
       "<table border=\"1\" class=\"dataframe\">\n",
       "  <thead>\n",
       "    <tr style=\"text-align: right;\">\n",
       "      <th></th>\n",
       "      <th>accommodates</th>\n",
       "      <th>bathrooms</th>\n",
       "      <th>bedrooms</th>\n",
       "      <th>date_taken</th>\n",
       "      <th>host_id</th>\n",
       "      <th>last_modified</th>\n",
       "      <th>latitude</th>\n",
       "      <th>location</th>\n",
       "      <th>longitude</th>\n",
       "      <th>minstay</th>\n",
       "      <th>name</th>\n",
       "      <th>neighborhood</th>\n",
       "      <th>overall_satisfaction</th>\n",
       "      <th>price</th>\n",
       "      <th>property_type</th>\n",
       "      <th>reviews</th>\n",
       "      <th>room_id</th>\n",
       "      <th>room_type</th>\n",
       "    </tr>\n",
       "  </thead>\n",
       "  <tbody>\n",
       "    <tr>\n",
       "      <th>0</th>\n",
       "      <td>2.0</td>\n",
       "      <td>NaN</td>\n",
       "      <td>NaN</td>\n",
       "      <td>2013-11</td>\n",
       "      <td>2883.0</td>\n",
       "      <td>2013-12-05 01:06:15</td>\n",
       "      <td>48.852169</td>\n",
       "      <td>NaN</td>\n",
       "      <td>2.347332</td>\n",
       "      <td>1.0</td>\n",
       "      <td>NaN</td>\n",
       "      <td>Sorbonne</td>\n",
       "      <td>4.0</td>\n",
       "      <td>119</td>\n",
       "      <td>NaN</td>\n",
       "      <td>26</td>\n",
       "      <td>2623</td>\n",
       "      <td>Private room</td>\n",
       "    </tr>\n",
       "    <tr>\n",
       "      <th>1</th>\n",
       "      <td>2.0</td>\n",
       "      <td>NaN</td>\n",
       "      <td>NaN</td>\n",
       "      <td>2013-11</td>\n",
       "      <td>3416.0</td>\n",
       "      <td>2013-12-01 21:27:35</td>\n",
       "      <td>48.883100</td>\n",
       "      <td>NaN</td>\n",
       "      <td>2.334202</td>\n",
       "      <td>2.0</td>\n",
       "      <td>NaN</td>\n",
       "      <td>Saint-Georges</td>\n",
       "      <td>5.0</td>\n",
       "      <td>74</td>\n",
       "      <td>NaN</td>\n",
       "      <td>37</td>\n",
       "      <td>3024</td>\n",
       "      <td>Entire home/apt</td>\n",
       "    </tr>\n",
       "    <tr>\n",
       "      <th>2</th>\n",
       "      <td>2.0</td>\n",
       "      <td>NaN</td>\n",
       "      <td>1.0</td>\n",
       "      <td>2013-11</td>\n",
       "      <td>3631.0</td>\n",
       "      <td>2013-12-01 22:03:16</td>\n",
       "      <td>48.833494</td>\n",
       "      <td>NaN</td>\n",
       "      <td>2.318518</td>\n",
       "      <td>2.0</td>\n",
       "      <td>NaN</td>\n",
       "      <td>Plaisance</td>\n",
       "      <td>NaN</td>\n",
       "      <td>126</td>\n",
       "      <td>NaN</td>\n",
       "      <td>0</td>\n",
       "      <td>3109</td>\n",
       "      <td>Entire home/apt</td>\n",
       "    </tr>\n",
       "    <tr>\n",
       "      <th>3</th>\n",
       "      <td>2.0</td>\n",
       "      <td>NaN</td>\n",
       "      <td>NaN</td>\n",
       "      <td>2013-11</td>\n",
       "      <td>6792.0</td>\n",
       "      <td>2013-12-01 21:28:01</td>\n",
       "      <td>48.865283</td>\n",
       "      <td>NaN</td>\n",
       "      <td>2.371150</td>\n",
       "      <td>3.0</td>\n",
       "      <td>NaN</td>\n",
       "      <td>Folie-Méricourt</td>\n",
       "      <td>5.0</td>\n",
       "      <td>147</td>\n",
       "      <td>NaN</td>\n",
       "      <td>2</td>\n",
       "      <td>4886</td>\n",
       "      <td>Entire home/apt</td>\n",
       "    </tr>\n",
       "    <tr>\n",
       "      <th>4</th>\n",
       "      <td>4.0</td>\n",
       "      <td>NaN</td>\n",
       "      <td>1.0</td>\n",
       "      <td>2013-11</td>\n",
       "      <td>6792.0</td>\n",
       "      <td>2013-12-06 15:15:23</td>\n",
       "      <td>48.864090</td>\n",
       "      <td>NaN</td>\n",
       "      <td>2.356515</td>\n",
       "      <td>3.0</td>\n",
       "      <td>NaN</td>\n",
       "      <td>Arts-et-Metiers</td>\n",
       "      <td>4.5</td>\n",
       "      <td>208</td>\n",
       "      <td>NaN</td>\n",
       "      <td>5</td>\n",
       "      <td>4890</td>\n",
       "      <td>Entire home/apt</td>\n",
       "    </tr>\n",
       "  </tbody>\n",
       "</table>\n",
       "</div>"
      ],
      "text/plain": [
       "   accommodates  bathrooms  bedrooms date_taken  host_id        last_modified  \\\n",
       "0           2.0        NaN       NaN    2013-11   2883.0  2013-12-05 01:06:15   \n",
       "1           2.0        NaN       NaN    2013-11   3416.0  2013-12-01 21:27:35   \n",
       "2           2.0        NaN       1.0    2013-11   3631.0  2013-12-01 22:03:16   \n",
       "3           2.0        NaN       NaN    2013-11   6792.0  2013-12-01 21:28:01   \n",
       "4           4.0        NaN       1.0    2013-11   6792.0  2013-12-06 15:15:23   \n",
       "\n",
       "    latitude location  longitude  minstay name     neighborhood  \\\n",
       "0  48.852169      NaN   2.347332      1.0  NaN         Sorbonne   \n",
       "1  48.883100      NaN   2.334202      2.0  NaN    Saint-Georges   \n",
       "2  48.833494      NaN   2.318518      2.0  NaN        Plaisance   \n",
       "3  48.865283      NaN   2.371150      3.0  NaN  Folie-Méricourt   \n",
       "4  48.864090      NaN   2.356515      3.0  NaN  Arts-et-Metiers   \n",
       "\n",
       "   overall_satisfaction price property_type  reviews  room_id        room_type  \n",
       "0                   4.0   119           NaN       26     2623     Private room  \n",
       "1                   5.0    74           NaN       37     3024  Entire home/apt  \n",
       "2                   NaN   126           NaN        0     3109  Entire home/apt  \n",
       "3                   5.0   147           NaN        2     4886  Entire home/apt  \n",
       "4                   4.5   208           NaN        5     4890  Entire home/apt  "
      ]
     },
     "execution_count": 5,
     "metadata": {},
     "output_type": "execute_result"
    }
   ],
   "source": [
    "df.head()"
   ]
  },
  {
   "cell_type": "code",
   "execution_count": 6,
   "metadata": {
    "collapsed": false,
    "deletable": true,
    "editable": true,
    "scrolled": false
   },
   "outputs": [
    {
     "name": "stdout",
     "output_type": "stream",
     "text": [
      "<class 'pandas.core.frame.DataFrame'>\n",
      "RangeIndex: 898359 entries, 0 to 898358\n",
      "Data columns (total 18 columns):\n",
      "accommodates            890620 non-null float64\n",
      "bathrooms               60421 non-null float64\n",
      "bedrooms                895469 non-null float64\n",
      "date_taken              898359 non-null object\n",
      "host_id                 898070 non-null float64\n",
      "last_modified           898359 non-null object\n",
      "latitude                898359 non-null float64\n",
      "location                323227 non-null object\n",
      "longitude               898359 non-null float64\n",
      "minstay                 381974 non-null float64\n",
      "name                    196105 non-null object\n",
      "neighborhood            896720 non-null object\n",
      "overall_satisfaction    730857 non-null float64\n",
      "price                   898349 non-null object\n",
      "property_type           196414 non-null object\n",
      "reviews                 898359 non-null int64\n",
      "room_id                 898359 non-null int64\n",
      "room_type               898058 non-null object\n",
      "dtypes: float64(8), int64(2), object(8)\n",
      "memory usage: 123.4+ MB\n"
     ]
    }
   ],
   "source": [
    "df.info()"
   ]
  },
  {
   "cell_type": "markdown",
   "metadata": {
    "deletable": true,
    "editable": true
   },
   "source": [
    "List of neighborhoods"
   ]
  },
  {
   "cell_type": "code",
   "execution_count": 44,
   "metadata": {
    "collapsed": false,
    "deletable": true,
    "editable": true
   },
   "outputs": [],
   "source": [
    "#cols=['I Arrondissement','II Arrondissement','III Arrondissement' , 'IV Arrondissement',\n",
    "#      'V Arrondissement', 'VI Arrondissement', 'VII Arrondissement', 'VIII Arrondissement',\n",
    "#     'IX Arrondissement','X Arrondissement', 'XI Arrondissement', 'XII Arrondissement',\n",
    "#     'XIII Arrondissement', 'XIV Arrondissement', 'XV Arrondissement', 'XVI Arrondissement',\n",
    "#     'XVII Arrondissement', 'XVIII Arrondissement', 'XIX Arrondissement', 'XX Arrondissement']\n",
    "#for c in cols:\n",
    "# df = df[df.neighborhood != c]\n",
    "\n",
    "#df = df.dropna(subset=['neighborhood'], axis=0)"
   ]
  },
  {
   "cell_type": "code",
   "execution_count": 6,
   "metadata": {
    "collapsed": false,
    "deletable": true,
    "editable": true
   },
   "outputs": [
    {
     "data": {
      "text/plain": [
       "array(['Sorbonne', 'Saint-Georges', 'Plaisance', 'Folie-Méricourt',\n",
       "       'Arts-et-Metiers', 'Notre-Dame', 'Halles', 'Grandes-Carrières',\n",
       "       'Saint-Merri', 'Faubourg-Montmartre', 'Enfants-Rouges',\n",
       "       'Sainte-Marguerite', 'Père-Lachaise', 'Grenelle', 'Saint-Ambroise',\n",
       "       'Saint-Gervais', 'Saint-Avoye', 'Clignancourt', 'Saint-Victor',\n",
       "       'Maison-Blanche', 'Villette', 'Arsenal', 'Belleville', 'Gare',\n",
       "       'Combat', 'Amérique', 'Charonne', 'Hôpital-Saint-Louis',\n",
       "       'Roquette', 'Porte-Saint-Denis', 'Salpêtrière', 'Archives',\n",
       "       'Porte-Saint-Martin', 'Pont-de-Flandre', 'Rochechouart',\n",
       "       'Madeleine', 'Goutte-dOr', 'St-Germain-lAuxerrois', 'Val-de-Grace',\n",
       "       'Invalides', 'Jardin-des-Plantes', 'Bel-Air', 'Bonne-Nouvelle',\n",
       "       'Saint-Thomas-dAquin', 'Petit-Montrouge', 'Muette', 'Europe',\n",
       "       'Palais-Royal', 'Epinettes', 'Notre-Dame-des-Champs',\n",
       "       'Saint-Vincent-de-Paul', 'Batignolles', 'Quinze-Vingts',\n",
       "       'Porte-Dauphine', 'Chaillot', 'Croulebarbe', 'Ternes',\n",
       "       'Saint-Lambert', 'Mail', 'La Chapelle', 'Auteuil', 'Montparnasse',\n",
       "       'Picpus', 'Faubourg-du-Roule', 'Vivienne', 'Necker',\n",
       "       'Place-Vendôme', 'Plaine-Monceau', 'Parc-de-Montsouris',\n",
       "       'Ecole-Militaire', 'Saint-Fargeau', 'Champs-Elysées',\n",
       "       'Javel 15Art', 'Gros-Caillou', 'Chaussée-dAntin', 'Bercy',\n",
       "       'Gaillon', 'Monnaie', 'Odeon', 'Saint-Germain-des-Prés', 'Alésia',\n",
       "       'Saint-Paul - Ile Saint-Louis', 'Le Marais',\n",
       "       \"Gare du Nord - Gare de I'Est\", 'Père Lachaise - Ménilmontant',\n",
       "       'Commerce - Dupleix', 'République', 'Montmartre', 'Saint-Lazare',\n",
       "       'Panthéon', \"Place d'Italie - Quartier Chinois\",\n",
       "       'XI Arrondissement', 'Pigalle - Saint-Georges', 'Austerlitz',\n",
       "       'Saint-Germain-des-Prés - Odéon', 'Buttes-Chaumont - Belleville',\n",
       "       nan, 'III Arrondissement', 'Châtelet - Les Halles - Beaubourg',\n",
       "       'Notre Dame - Ile de La Cité', 'Nation', 'Porte de Clignancourt',\n",
       "       'Saint-Michel', 'Monceau', 'Tour Eiffel - Champ de Mars',\n",
       "       'La Villette', 'Bastille', 'Vaugirard', 'II Arrondissement',\n",
       "       'X Arrondissement', 'Palais Royal', 'Madeleine - Vendôme',\n",
       "       'Canal Saint-Martin', 'Port-Royal', 'Invalides - Ecole Militaire',\n",
       "       'Louvre - Tuileries', 'Opéra - Grands Boulevards',\n",
       "       'Porte de Versailles', 'IV Arrondissement', 'Passy',\n",
       "       'XVI Arrondissement', 'XX Arrondissement', 'Gare de Lyon',\n",
       "       'IX Arrondissement', 'V Arrondissement', 'I Arrondissement',\n",
       "       'VI Arrondissement', 'XVII Arrondissement', 'XIX Arrondissement',\n",
       "       'XIII Arrondissement', 'XVIII Arrondissement', 'Quartier Latin',\n",
       "       'XII Arrondissement', 'XIV Arrondissement', 'XV Arrondissement'],\n",
       "      dtype=object)"
      ]
     },
     "execution_count": 6,
     "metadata": {},
     "output_type": "execute_result"
    }
   ],
   "source": [
    "quar_list_airbnb = df.neighborhood.unique()\n",
    "quar_list_airbnb"
   ]
  },
  {
   "cell_type": "markdown",
   "metadata": {
    "deletable": true,
    "editable": true
   },
   "source": [
    "In Paris, number of arrondissment is used, not name. convert names->numbers"
   ]
  },
  {
   "cell_type": "code",
   "execution_count": 98,
   "metadata": {
    "collapsed": false,
    "deletable": true,
    "editable": true
   },
   "outputs": [],
   "source": [
    "n_to_arr_dict = {'Quartier Latin':5,\n",
    "                 'Austerlitz':13,\n",
    "                 'X Arrondissement':10,\n",
    "                 'Clignancourt':18,\n",
    "                 'Roquette':11,\n",
    "                 'Belleville':20,\n",
    "                 'Grandes-Carrières':18,\n",
    "                'XVI Arrondissement':16,\n",
    "                 'XVII Arrondissement':17,\n",
    "                 'XV Arrondissement':15,\n",
    "                 'XIII Arrondissement':13,\n",
    "                 'XIV Arrondissement':14,\n",
    "                 'XX Arrondissement':20,\n",
    "                 'XIX Arrondissement':19,\n",
    "                 'XII Arrondissement':12,\n",
    "                 'XVIII Arrondissement':18,\n",
    "                 'IX Arrondissement':9,\n",
    "                 'VI Arrondissement':6,\n",
    "                 'I Arrondissement':1,\n",
    "                 'V Arrondissement':5,\n",
    "                'Buttes-Montmartre':18,\n",
    "                 'Popincourt':11,\n",
    "                 'Vaugirard':15,\n",
    "                 'Entrepôt':10,\n",
    "                 'Batignolles-Monceau':17,\n",
    "                 'Ménilmontant':20,\n",
    "                 'Buttes-Chaumont':19,\n",
    "                 'Passy':16,\n",
    "                 'Temple':3,\n",
    "                 'Opéra':9,\n",
    "                 'Reuilly':12,\n",
    "                 'Observatoire':14,\n",
    "                 'Gobelins':13,\n",
    "                 'Panthéon':5,\n",
    "                 'Hôtel-de-Ville':4,\n",
    "                 'Bourse':2,\n",
    "                 'Luxembourg':6,\n",
    "                 'Palais-Bourbon':7,\n",
    "                 'Élysée':8,\n",
    "                 'Louvre':1\n",
    "}\n",
    "\n",
    "#df['arrondissement']=df.neighbourhood_cleansed.map(n_to_arr_dict)"
   ]
  },
  {
   "cell_type": "code",
   "execution_count": 8,
   "metadata": {
    "collapsed": false,
    "deletable": true,
    "editable": true
   },
   "outputs": [
    {
     "data": {
      "text/plain": [
       "accommodates              7739\n",
       "bathrooms               837938\n",
       "bedrooms                  2890\n",
       "date_taken                   0\n",
       "host_id                    289\n",
       "last_modified                0\n",
       "latitude                     0\n",
       "location                575132\n",
       "longitude                    0\n",
       "minstay                 516385\n",
       "name                    702254\n",
       "neighborhood              1639\n",
       "overall_satisfaction    167502\n",
       "price                       10\n",
       "property_type           701945\n",
       "reviews                      0\n",
       "room_id                      0\n",
       "room_type                  301\n",
       "dtype: int64"
      ]
     },
     "execution_count": 8,
     "metadata": {},
     "output_type": "execute_result"
    }
   ],
   "source": [
    "# Check missing\n",
    "\n",
    "df.isnull().sum()"
   ]
  },
  {
   "cell_type": "code",
   "execution_count": 9,
   "metadata": {
    "collapsed": false,
    "deletable": true,
    "editable": true
   },
   "outputs": [
    {
     "data": {
      "text/plain": [
       "float"
      ]
     },
     "execution_count": 9,
     "metadata": {},
     "output_type": "execute_result"
    },
    {
     "data": {
      "text/plain": [
       "0    119\n",
       "1     74\n",
       "Name: price, dtype: object"
      ]
     },
     "execution_count": 9,
     "metadata": {},
     "output_type": "execute_result"
    },
    {
     "data": {
      "text/plain": [
       "numpy.float64"
      ]
     },
     "execution_count": 9,
     "metadata": {},
     "output_type": "execute_result"
    },
    {
     "data": {
      "text/plain": [
       "0    119.0\n",
       "1     74.0\n",
       "Name: price, dtype: float64"
      ]
     },
     "execution_count": 9,
     "metadata": {},
     "output_type": "execute_result"
    }
   ],
   "source": [
    "# price is a string (!!?!) convert to int\n",
    "import re\n",
    "\n",
    "def conv_line(x):\n",
    "    \n",
    "    if type(x)==str:\n",
    "        return float(re.findall(r'\\d+', x)[0])\n",
    "    else: \n",
    "        if math.isnan(x):\n",
    "            return x\n",
    "        else: return float(x)\n",
    "\n",
    "    \n",
    "type(df.price[1])\n",
    "df_large.price[:2]\n",
    "\n",
    "df.price = df.price.apply(conv_line)\n",
    "type(df.price[1])\n",
    "df.price[:2]"
   ]
  },
  {
   "cell_type": "markdown",
   "metadata": {
    "deletable": true,
    "editable": true
   },
   "source": [
    "# Geographical data"
   ]
  },
  {
   "cell_type": "markdown",
   "metadata": {
    "deletable": true,
    "editable": true
   },
   "source": [
    "### Quartiers de Paris"
   ]
  },
  {
   "cell_type": "code",
   "execution_count": 10,
   "metadata": {
    "collapsed": false,
    "deletable": true,
    "editable": true
   },
   "outputs": [
    {
     "data": {
      "text/html": [
       "<div>\n",
       "<style scoped>\n",
       "    .dataframe tbody tr th:only-of-type {\n",
       "        vertical-align: middle;\n",
       "    }\n",
       "\n",
       "    .dataframe tbody tr th {\n",
       "        vertical-align: top;\n",
       "    }\n",
       "\n",
       "    .dataframe thead th {\n",
       "        text-align: right;\n",
       "    }\n",
       "</style>\n",
       "<table border=\"1\" class=\"dataframe\">\n",
       "  <thead>\n",
       "    <tr style=\"text-align: right;\">\n",
       "      <th></th>\n",
       "      <th>n_sq_qu</th>\n",
       "      <th>perimetre</th>\n",
       "      <th>objectid</th>\n",
       "      <th>longueur</th>\n",
       "      <th>c_qu</th>\n",
       "      <th>surface</th>\n",
       "      <th>n_sq_ar</th>\n",
       "      <th>c_quinsee</th>\n",
       "      <th>l_qu</th>\n",
       "      <th>c_ar</th>\n",
       "      <th>geometry</th>\n",
       "    </tr>\n",
       "  </thead>\n",
       "  <tbody>\n",
       "    <tr>\n",
       "      <th>0</th>\n",
       "      <td>750000010</td>\n",
       "      <td>2139.625388</td>\n",
       "      <td>50</td>\n",
       "      <td>2139.535591</td>\n",
       "      <td>10</td>\n",
       "      <td>271750.323937</td>\n",
       "      <td>750000003</td>\n",
       "      <td>7510302</td>\n",
       "      <td>Enfants-Rouges</td>\n",
       "      <td>3</td>\n",
       "      <td>POLYGON ((2.367101341254551 48.86162755885409,...</td>\n",
       "    </tr>\n",
       "    <tr>\n",
       "      <th>1</th>\n",
       "      <td>750000016</td>\n",
       "      <td>3283.163371</td>\n",
       "      <td>56</td>\n",
       "      <td>3282.999717</td>\n",
       "      <td>16</td>\n",
       "      <td>378252.153674</td>\n",
       "      <td>750000004</td>\n",
       "      <td>7510404</td>\n",
       "      <td>Notre-Dame</td>\n",
       "      <td>4</td>\n",
       "      <td>POLYGON ((2.361313701339139 48.84858030437791,...</td>\n",
       "    </tr>\n",
       "  </tbody>\n",
       "</table>\n",
       "</div>"
      ],
      "text/plain": [
       "     n_sq_qu    perimetre  objectid     longueur  c_qu        surface  \\\n",
       "0  750000010  2139.625388        50  2139.535591    10  271750.323937   \n",
       "1  750000016  3283.163371        56  3282.999717    16  378252.153674   \n",
       "\n",
       "     n_sq_ar  c_quinsee            l_qu  c_ar  \\\n",
       "0  750000003    7510302  Enfants-Rouges     3   \n",
       "1  750000004    7510404      Notre-Dame     4   \n",
       "\n",
       "                                            geometry  \n",
       "0  POLYGON ((2.367101341254551 48.86162755885409,...  \n",
       "1  POLYGON ((2.361313701339139 48.84858030437791,...  "
      ]
     },
     "execution_count": 10,
     "metadata": {},
     "output_type": "execute_result"
    },
    {
     "data": {
      "text/plain": [
       "(80, 11)"
      ]
     },
     "execution_count": 10,
     "metadata": {},
     "output_type": "execute_result"
    }
   ],
   "source": [
    "quar_bg_json = gpd.read_file('data/quartier_paris.geojson')\n",
    "\n",
    "quar_bg_json.head(2)\n",
    "quar_bg_json.shape\n",
    "quar_list = quar_bg_json.l_qu.values\n"
   ]
  },
  {
   "cell_type": "code",
   "execution_count": 11,
   "metadata": {
    "collapsed": false,
    "deletable": true,
    "editable": true
   },
   "outputs": [
    {
     "data": {
      "text/plain": [
       "2.4898017322944015"
      ]
     },
     "execution_count": 11,
     "metadata": {},
     "output_type": "execute_result"
    }
   ],
   "source": [
    "import geopy.distance\n",
    "\n",
    "coords_1 = (48.876733, 2.340038)\n",
    "coords_2 = (48.881508, 2.326565)\n",
    "\n",
    "paris_center = (48.864716, 2.349014)\n",
    "\n",
    "geopy.distance.vincenty(coords_2, paris_center).km"
   ]
  },
  {
   "cell_type": "code",
   "execution_count": 12,
   "metadata": {
    "collapsed": false,
    "deletable": true,
    "editable": true
   },
   "outputs": [],
   "source": [
    "quar_bg_json['latitude']= quar_bg_json.geometry.centroid.y\n",
    "quar_bg_json['longitude']= quar_bg_json.geometry.centroid.x"
   ]
  },
  {
   "cell_type": "code",
   "execution_count": 13,
   "metadata": {
    "collapsed": true,
    "deletable": true,
    "editable": true
   },
   "outputs": [],
   "source": [
    "def inside_polygon(x, y, points):\n",
    "    \"\"\"\n",
    "    Return True if a coordinate (x, y) is inside a polygon defined by\n",
    "    a list of verticies [(x1, y1), (x2, x2), ... , (xN, yN)].\n",
    "\n",
    "    Reference: http://www.ariel.com.au/a/python-point-int-poly.html\n",
    "    \"\"\"\n",
    "    n = len(points)\n",
    "    inside = False\n",
    "    p1x, p1y = points[0]\n",
    "    for i in range(1, n + 1):\n",
    "        p2x, p2y = points[i % n]\n",
    "        if y > min(p1y, p2y):\n",
    "            if y <= max(p1y, p2y):\n",
    "                if x <= max(p1x, p2x):\n",
    "                    if p1y != p2y:\n",
    "                        xinters = (y - p1y) * (p2x - p1x) / (p2y - p1y) + p1x\n",
    "                    if p1x == p2x or x <= xinters:\n",
    "                        inside = not inside\n",
    "        p1x, p1y = p2x, p2y\n",
    "    return inside"
   ]
  },
  {
   "cell_type": "code",
   "execution_count": 14,
   "metadata": {
    "collapsed": false,
    "deletable": true,
    "editable": true
   },
   "outputs": [],
   "source": [
    "\n",
    "def assign_quartier(lat, lon , quar_df, name_col):\n",
    "    \n",
    "    point = Point(lat, lon)\n",
    "    for index, row in quar_df.iterrows():\n",
    "        polygon = row['geometry']\n",
    "        c_list = [(c[1], c[0]) for c in polygon.exterior.coords]\n",
    "        \n",
    "        inside = inside_polygon(lat, lon, c_list)\n",
    "        \n",
    "        if inside:\n",
    "            return row[name_col]\n",
    "            break\n",
    "            \n"
   ]
  },
  {
   "cell_type": "code",
   "execution_count": 15,
   "metadata": {
    "collapsed": false,
    "deletable": true,
    "editable": true
   },
   "outputs": [
    {
     "name": "stdout",
     "output_type": "stream",
     "text": [
      "CPU times: user 9 µs, sys: 2 µs, total: 11 µs\n",
      "Wall time: 43.9 µs\n"
     ]
    },
    {
     "data": {
      "text/plain": [
       "'Buttes-Chaumont - Belleville'"
      ]
     },
     "execution_count": 15,
     "metadata": {},
     "output_type": "execute_result"
    },
    {
     "data": {
      "text/plain": [
       "'Combat'"
      ]
     },
     "execution_count": 15,
     "metadata": {},
     "output_type": "execute_result"
    }
   ],
   "source": [
    "# Test\n",
    "%time\n",
    "line=df[df.neighborhood=='Buttes-Chaumont - Belleville'].iloc[np.random.randint(1,10),:]\n",
    "line.neighborhood\n",
    "q = assign_quartier(line.latitude, line.longitude, quar_bg_json, 'l_qu')\n",
    "\n",
    "q"
   ]
  },
  {
   "cell_type": "code",
   "execution_count": 96,
   "metadata": {
    "collapsed": false,
    "deletable": true,
    "editable": true
   },
   "outputs": [
    {
     "data": {
      "text/plain": [
       "0.8333333333333333"
      ]
     },
     "execution_count": 96,
     "metadata": {},
     "output_type": "execute_result"
    }
   ],
   "source": [
    "10*df_sample.shape[0]*10**-6*1000/60#/60"
   ]
  },
  {
   "cell_type": "code",
   "execution_count": 16,
   "metadata": {
    "collapsed": true,
    "deletable": true,
    "editable": true
   },
   "outputs": [],
   "source": [
    "df_sample = df.sample(5000)"
   ]
  },
  {
   "cell_type": "code",
   "execution_count": 17,
   "metadata": {
    "collapsed": false,
    "deletable": true,
    "editable": true
   },
   "outputs": [
    {
     "name": "stdout",
     "output_type": "stream",
     "text": [
      "CPU times: user 2min 15s, sys: 2.73 s, total: 2min 18s\n",
      "Wall time: 3min 42s\n"
     ]
    }
   ],
   "source": [
    "%%time\n",
    "df_sample['regular_neighborhood'] = df_sample.apply(lambda row: assign_quartier(row.latitude ,row.longitude, quar_bg_json, 'l_qu' ), axis=1)\n",
    "\n"
   ]
  },
  {
   "cell_type": "code",
   "execution_count": 84,
   "metadata": {
    "collapsed": false,
    "deletable": true,
    "editable": true
   },
   "outputs": [
    {
     "name": "stdout",
     "output_type": "stream",
     "text": [
      "CPU times: user 2h 31min 52s, sys: 41.8 s, total: 2h 32min 34s\n",
      "Wall time: 2h 32min 38s\n"
     ]
    }
   ],
   "source": [
    "%%time\n",
    "# tempo stimato ~ 2h50\n",
    "df['regular_neighborhood'] = df.apply(lambda row: assign_quartier(row.latitude ,row.longitude, quar_bg_json, 'l_qu' ), axis=1)\n",
    "df.to_csv('airbnb_paris_2013_2018_full.csv')"
   ]
  },
  {
   "cell_type": "code",
   "execution_count": 24,
   "metadata": {
    "collapsed": false,
    "deletable": true,
    "editable": true
   },
   "outputs": [
    {
     "data": {
      "text/html": [
       "<div>\n",
       "<style scoped>\n",
       "    .dataframe tbody tr th:only-of-type {\n",
       "        vertical-align: middle;\n",
       "    }\n",
       "\n",
       "    .dataframe tbody tr th {\n",
       "        vertical-align: top;\n",
       "    }\n",
       "\n",
       "    .dataframe thead th {\n",
       "        text-align: right;\n",
       "    }\n",
       "</style>\n",
       "<table border=\"1\" class=\"dataframe\">\n",
       "  <thead>\n",
       "    <tr style=\"text-align: right;\">\n",
       "      <th></th>\n",
       "      <th>accommodates</th>\n",
       "      <th>bathrooms</th>\n",
       "      <th>bedrooms</th>\n",
       "      <th>date_taken</th>\n",
       "      <th>host_id</th>\n",
       "      <th>last_modified</th>\n",
       "      <th>latitude</th>\n",
       "      <th>location</th>\n",
       "      <th>longitude</th>\n",
       "      <th>minstay</th>\n",
       "      <th>name</th>\n",
       "      <th>neighborhood</th>\n",
       "      <th>overall_satisfaction</th>\n",
       "      <th>price</th>\n",
       "      <th>property_type</th>\n",
       "      <th>reviews</th>\n",
       "      <th>room_id</th>\n",
       "      <th>room_type</th>\n",
       "      <th>regular_neighborhood</th>\n",
       "    </tr>\n",
       "  </thead>\n",
       "  <tbody>\n",
       "    <tr>\n",
       "      <th>290888</th>\n",
       "      <td>2.0</td>\n",
       "      <td>NaN</td>\n",
       "      <td>1.0</td>\n",
       "      <td>2016-08</td>\n",
       "      <td>43535912.0</td>\n",
       "      <td>2016-08-10 19:09:54.697128</td>\n",
       "      <td>48.844350</td>\n",
       "      <td>NaN</td>\n",
       "      <td>2.295040</td>\n",
       "      <td>2.0</td>\n",
       "      <td>NaN</td>\n",
       "      <td>Grenelle</td>\n",
       "      <td>NaN</td>\n",
       "      <td>69.0</td>\n",
       "      <td>NaN</td>\n",
       "      <td>0</td>\n",
       "      <td>13860694</td>\n",
       "      <td>Entire home/apt</td>\n",
       "      <td>Grenelle</td>\n",
       "    </tr>\n",
       "    <tr>\n",
       "      <th>622121</th>\n",
       "      <td>2.0</td>\n",
       "      <td>NaN</td>\n",
       "      <td>0.0</td>\n",
       "      <td>2017-04</td>\n",
       "      <td>35364848.0</td>\n",
       "      <td>2017-04-16 06:10:31.352388</td>\n",
       "      <td>48.862213</td>\n",
       "      <td>0101000020E6100000DE02098A1FE30240D097DEFE5C6E...</td>\n",
       "      <td>2.360900</td>\n",
       "      <td>NaN</td>\n",
       "      <td>NaN</td>\n",
       "      <td>Enfants-Rouges</td>\n",
       "      <td>0.0</td>\n",
       "      <td>43.0</td>\n",
       "      <td>NaN</td>\n",
       "      <td>0</td>\n",
       "      <td>6904558</td>\n",
       "      <td>Entire home/apt</td>\n",
       "      <td>Enfants-Rouges</td>\n",
       "    </tr>\n",
       "    <tr>\n",
       "      <th>385545</th>\n",
       "      <td>2.0</td>\n",
       "      <td>NaN</td>\n",
       "      <td>1.0</td>\n",
       "      <td>2017-01</td>\n",
       "      <td>13429162.0</td>\n",
       "      <td>2017-01-01 23:21:26.976566</td>\n",
       "      <td>48.895755</td>\n",
       "      <td>NaN</td>\n",
       "      <td>2.322800</td>\n",
       "      <td>NaN</td>\n",
       "      <td>NaN</td>\n",
       "      <td>Epinettes</td>\n",
       "      <td>5.0</td>\n",
       "      <td>52.0</td>\n",
       "      <td>NaN</td>\n",
       "      <td>16</td>\n",
       "      <td>15150496</td>\n",
       "      <td>Private room</td>\n",
       "      <td>Epinettes</td>\n",
       "    </tr>\n",
       "    <tr>\n",
       "      <th>669589</th>\n",
       "      <td>2.0</td>\n",
       "      <td>NaN</td>\n",
       "      <td>1.0</td>\n",
       "      <td>2017-04</td>\n",
       "      <td>6147063.0</td>\n",
       "      <td>2017-04-27 06:19:47.372961</td>\n",
       "      <td>48.869708</td>\n",
       "      <td>0101000020E61000002EFEB627484C0340E8887C97526F...</td>\n",
       "      <td>2.412247</td>\n",
       "      <td>NaN</td>\n",
       "      <td>NaN</td>\n",
       "      <td>Saint-Fargeau</td>\n",
       "      <td>5.0</td>\n",
       "      <td>31.0</td>\n",
       "      <td>NaN</td>\n",
       "      <td>4</td>\n",
       "      <td>17968815</td>\n",
       "      <td>Private room</td>\n",
       "      <td>Saint-Fargeau</td>\n",
       "    </tr>\n",
       "    <tr>\n",
       "      <th>661431</th>\n",
       "      <td>6.0</td>\n",
       "      <td>NaN</td>\n",
       "      <td>2.0</td>\n",
       "      <td>2017-04</td>\n",
       "      <td>4237797.0</td>\n",
       "      <td>2017-04-26 19:46:41.220674</td>\n",
       "      <td>48.870525</td>\n",
       "      <td>0101000020E6100000802C4487C0510240DAACFA5C6D6F...</td>\n",
       "      <td>2.289918</td>\n",
       "      <td>NaN</td>\n",
       "      <td>NaN</td>\n",
       "      <td>Chaillot</td>\n",
       "      <td>NaN</td>\n",
       "      <td>449.0</td>\n",
       "      <td>NaN</td>\n",
       "      <td>0</td>\n",
       "      <td>7398784</td>\n",
       "      <td>Entire home/apt</td>\n",
       "      <td>Chaillot</td>\n",
       "    </tr>\n",
       "  </tbody>\n",
       "</table>\n",
       "</div>"
      ],
      "text/plain": [
       "        accommodates  bathrooms  bedrooms date_taken     host_id  \\\n",
       "290888           2.0        NaN       1.0    2016-08  43535912.0   \n",
       "622121           2.0        NaN       0.0    2017-04  35364848.0   \n",
       "385545           2.0        NaN       1.0    2017-01  13429162.0   \n",
       "669589           2.0        NaN       1.0    2017-04   6147063.0   \n",
       "661431           6.0        NaN       2.0    2017-04   4237797.0   \n",
       "\n",
       "                     last_modified   latitude  \\\n",
       "290888  2016-08-10 19:09:54.697128  48.844350   \n",
       "622121  2017-04-16 06:10:31.352388  48.862213   \n",
       "385545  2017-01-01 23:21:26.976566  48.895755   \n",
       "669589  2017-04-27 06:19:47.372961  48.869708   \n",
       "661431  2017-04-26 19:46:41.220674  48.870525   \n",
       "\n",
       "                                                 location  longitude  minstay  \\\n",
       "290888                                                NaN   2.295040      2.0   \n",
       "622121  0101000020E6100000DE02098A1FE30240D097DEFE5C6E...   2.360900      NaN   \n",
       "385545                                                NaN   2.322800      NaN   \n",
       "669589  0101000020E61000002EFEB627484C0340E8887C97526F...   2.412247      NaN   \n",
       "661431  0101000020E6100000802C4487C0510240DAACFA5C6D6F...   2.289918      NaN   \n",
       "\n",
       "       name    neighborhood  overall_satisfaction  price property_type  \\\n",
       "290888  NaN        Grenelle                   NaN   69.0           NaN   \n",
       "622121  NaN  Enfants-Rouges                   0.0   43.0           NaN   \n",
       "385545  NaN       Epinettes                   5.0   52.0           NaN   \n",
       "669589  NaN   Saint-Fargeau                   5.0   31.0           NaN   \n",
       "661431  NaN        Chaillot                   NaN  449.0           NaN   \n",
       "\n",
       "        reviews   room_id        room_type regular_neighborhood  \n",
       "290888        0  13860694  Entire home/apt             Grenelle  \n",
       "622121        0   6904558  Entire home/apt       Enfants-Rouges  \n",
       "385545       16  15150496     Private room            Epinettes  \n",
       "669589        4  17968815     Private room        Saint-Fargeau  \n",
       "661431        0   7398784  Entire home/apt             Chaillot  "
      ]
     },
     "execution_count": 24,
     "metadata": {},
     "output_type": "execute_result"
    }
   ],
   "source": [
    "df_sample.head()"
   ]
  },
  {
   "cell_type": "code",
   "execution_count": 35,
   "metadata": {
    "collapsed": false,
    "deletable": true,
    "editable": true
   },
   "outputs": [
    {
     "data": {
      "text/html": [
       "<div>\n",
       "<style scoped>\n",
       "    .dataframe tbody tr th:only-of-type {\n",
       "        vertical-align: middle;\n",
       "    }\n",
       "\n",
       "    .dataframe tbody tr th {\n",
       "        vertical-align: top;\n",
       "    }\n",
       "\n",
       "    .dataframe thead th {\n",
       "        text-align: right;\n",
       "    }\n",
       "</style>\n",
       "<table border=\"1\" class=\"dataframe\">\n",
       "  <thead>\n",
       "    <tr style=\"text-align: right;\">\n",
       "      <th></th>\n",
       "      <th>accommodates</th>\n",
       "      <th>bathrooms</th>\n",
       "      <th>bedrooms</th>\n",
       "      <th>date_taken</th>\n",
       "      <th>host_id</th>\n",
       "      <th>last_modified</th>\n",
       "      <th>latitude</th>\n",
       "      <th>location</th>\n",
       "      <th>longitude</th>\n",
       "      <th>minstay</th>\n",
       "      <th>name</th>\n",
       "      <th>neighborhood</th>\n",
       "      <th>overall_satisfaction</th>\n",
       "      <th>price</th>\n",
       "      <th>property_type</th>\n",
       "      <th>reviews</th>\n",
       "      <th>room_id</th>\n",
       "      <th>room_type</th>\n",
       "      <th>regular_neighborhood</th>\n",
       "    </tr>\n",
       "  </thead>\n",
       "  <tbody>\n",
       "    <tr>\n",
       "      <th>889811</th>\n",
       "      <td>1.0</td>\n",
       "      <td>1.0</td>\n",
       "      <td>0.0</td>\n",
       "      <td>2018-06</td>\n",
       "      <td>29671382.0</td>\n",
       "      <td>2018-06-08</td>\n",
       "      <td>48.881896</td>\n",
       "      <td>FR</td>\n",
       "      <td>2.275968</td>\n",
       "      <td>1.0</td>\n",
       "      <td>Neuilly Porte Maillot ~ Studio meublé</td>\n",
       "      <td>NaN</td>\n",
       "      <td>NaN</td>\n",
       "      <td>40.0</td>\n",
       "      <td>Apartment</td>\n",
       "      <td>0</td>\n",
       "      <td>22580785</td>\n",
       "      <td>Entire home/apt</td>\n",
       "      <td>None</td>\n",
       "    </tr>\n",
       "    <tr>\n",
       "      <th>883062</th>\n",
       "      <td>2.0</td>\n",
       "      <td>1.0</td>\n",
       "      <td>1.0</td>\n",
       "      <td>2018-06</td>\n",
       "      <td>91612254.0</td>\n",
       "      <td>2018-06-08</td>\n",
       "      <td>48.902079</td>\n",
       "      <td>FR</td>\n",
       "      <td>2.318819</td>\n",
       "      <td>3.0</td>\n",
       "      <td>Un pied-à-terre, court séjour à Paris, 1 à 2 p...</td>\n",
       "      <td>NaN</td>\n",
       "      <td>NaN</td>\n",
       "      <td>30.0</td>\n",
       "      <td>Apartment</td>\n",
       "      <td>1</td>\n",
       "      <td>19950700</td>\n",
       "      <td>Shared room</td>\n",
       "      <td>None</td>\n",
       "    </tr>\n",
       "    <tr>\n",
       "      <th>896891</th>\n",
       "      <td>2.0</td>\n",
       "      <td>1.0</td>\n",
       "      <td>0.0</td>\n",
       "      <td>2018-06</td>\n",
       "      <td>11118041.0</td>\n",
       "      <td>2018-06-08</td>\n",
       "      <td>48.847006</td>\n",
       "      <td>FR</td>\n",
       "      <td>2.241907</td>\n",
       "      <td>1.0</td>\n",
       "      <td>Charmant studio à Roland Garros proche Paris 16e</td>\n",
       "      <td>XVI Arrondissement</td>\n",
       "      <td>NaN</td>\n",
       "      <td>45.0</td>\n",
       "      <td>Apartment</td>\n",
       "      <td>0</td>\n",
       "      <td>25232895</td>\n",
       "      <td>Entire home/apt</td>\n",
       "      <td>None</td>\n",
       "    </tr>\n",
       "  </tbody>\n",
       "</table>\n",
       "</div>"
      ],
      "text/plain": [
       "        accommodates  bathrooms  bedrooms date_taken     host_id  \\\n",
       "889811           1.0        1.0       0.0    2018-06  29671382.0   \n",
       "883062           2.0        1.0       1.0    2018-06  91612254.0   \n",
       "896891           2.0        1.0       0.0    2018-06  11118041.0   \n",
       "\n",
       "       last_modified   latitude location  longitude  minstay  \\\n",
       "889811    2018-06-08  48.881896       FR   2.275968      1.0   \n",
       "883062    2018-06-08  48.902079       FR   2.318819      3.0   \n",
       "896891    2018-06-08  48.847006       FR   2.241907      1.0   \n",
       "\n",
       "                                                     name        neighborhood  \\\n",
       "889811              Neuilly Porte Maillot ~ Studio meublé                 NaN   \n",
       "883062  Un pied-à-terre, court séjour à Paris, 1 à 2 p...                 NaN   \n",
       "896891   Charmant studio à Roland Garros proche Paris 16e  XVI Arrondissement   \n",
       "\n",
       "        overall_satisfaction  price property_type  reviews   room_id  \\\n",
       "889811                   NaN   40.0     Apartment        0  22580785   \n",
       "883062                   NaN   30.0     Apartment        1  19950700   \n",
       "896891                   NaN   45.0     Apartment        0  25232895   \n",
       "\n",
       "              room_type regular_neighborhood  \n",
       "889811  Entire home/apt                 None  \n",
       "883062      Shared room                 None  \n",
       "896891  Entire home/apt                 None  "
      ]
     },
     "execution_count": 35,
     "metadata": {},
     "output_type": "execute_result"
    }
   ],
   "source": [
    "df_sample[df_sample['regular_neighborhood'].isnull()]"
   ]
  },
  {
   "cell_type": "code",
   "execution_count": 38,
   "metadata": {
    "collapsed": false,
    "deletable": true,
    "editable": true
   },
   "outputs": [],
   "source": [
    "df_sample = df_sample.dropna(subset=['regular_neighborhood'])"
   ]
  },
  {
   "cell_type": "code",
   "execution_count": 39,
   "metadata": {
    "collapsed": false,
    "deletable": true,
    "editable": true
   },
   "outputs": [
    {
     "name": "stdout",
     "output_type": "stream",
     "text": [
      "['Amérique' 'Archives' 'Arsenal' 'Arts-et-Metiers' 'Auteuil' 'Batignolles'\n",
      " 'Bel-Air' 'Belleville' 'Bercy' 'Bonne-Nouvelle' 'Chaillot'\n",
      " 'Champs-Elysées' 'Charonne' \"Chaussée-d'Antin\" 'Clignancourt' 'Combat'\n",
      " 'Croulebarbe' 'Ecole-Militaire' 'Enfants-Rouges' 'Epinettes' 'Europe'\n",
      " 'Faubourg-Montmartre' 'Faubourg-du-Roule' 'Folie-Méricourt' 'Gaillon'\n",
      " 'Gare' \"Goutte-d'Or\" 'Grandes-Carrières' 'Grenelle' 'Gros-Caillou'\n",
      " 'Halles' 'Hôpital-Saint-Louis' 'Invalides' 'Jardin-des-Plantes'\n",
      " 'Javel 15Art' 'La Chapelle' 'Madeleine' 'Mail' 'Maison-Blanche' 'Monnaie'\n",
      " 'Montparnasse' 'Muette' 'Necker' 'Notre-Dame' 'Notre-Dame-des-Champs'\n",
      " 'Odeon' 'Palais-Royal' 'Parc-de-Montsouris' 'Petit-Montrouge' 'Picpus'\n",
      " 'Place-Vendôme' 'Plaine de Monceaux' 'Plaisance' 'Pont-de-Flandre'\n",
      " 'Porte-Dauphine' 'Porte-Saint-Denis' 'Porte-Saint-Martin' 'Père-Lachaise'\n",
      " 'Quinze-Vingts' 'Rochechouart' 'Roquette' 'Saint-Ambroise'\n",
      " 'Saint-Fargeau' 'Saint-Georges' 'Saint-Germain-des-Prés' 'Saint-Gervais'\n",
      " 'Saint-Lambert' 'Saint-Merri' \"Saint-Thomas-d'Aquin\" 'Saint-Victor'\n",
      " 'Saint-Vincent-de-Paul' 'Sainte-Avoie' 'Sainte-Marguerite' 'Salpêtrière'\n",
      " 'Sorbonne' \"St-Germain-l'Auxerrois\" 'Ternes' 'Val-de-Grace' 'Villette'\n",
      " 'Vivienne']\n"
     ]
    }
   ],
   "source": [
    "print(np.sort(quar_list))"
   ]
  },
  {
   "cell_type": "code",
   "execution_count": 40,
   "metadata": {
    "collapsed": false,
    "deletable": true,
    "editable": true
   },
   "outputs": [
    {
     "name": "stdout",
     "output_type": "stream",
     "text": [
      "['Grenelle' 'Enfants-Rouges' 'Epinettes' 'Saint-Fargeau' 'Chaillot'\n",
      " 'Clignancourt' 'Grandes-Carrières' 'Plaisance' 'Roquette' 'Mail'\n",
      " 'Faubourg-Montmartre' 'Picpus' 'Monnaie' 'Belleville' 'Halles'\n",
      " 'Notre-Dame' 'Gros-Caillou' 'Sorbonne' 'Jardin-des-Plantes'\n",
      " 'Porte-Saint-Denis' 'Salpêtrière' 'Saint-Lambert' 'Odeon'\n",
      " 'Ecole-Militaire' 'Combat' 'Hôpital-Saint-Louis' 'Auteuil' 'Gaillon'\n",
      " 'Quinze-Vingts' 'Saint-Merri' 'Villette' 'Bonne-Nouvelle' 'Saint-Georges'\n",
      " 'Saint-Vincent-de-Paul' 'Arsenal' \"Chaussée-d'Antin\" 'Père-Lachaise'\n",
      " 'Porte-Dauphine' 'Archives' 'Rochechouart' 'Batignolles' 'Saint-Ambroise'\n",
      " 'Bercy' \"Goutte-d'Or\" 'Folie-Méricourt' 'Vivienne' 'Charonne'\n",
      " 'Maison-Blanche' 'Sainte-Marguerite' 'Parc-de-Montsouris'\n",
      " \"Saint-Thomas-d'Aquin\" 'Ternes' 'Muette' 'Necker' 'Saint-Victor'\n",
      " 'Javel 15Art' 'Amérique' 'La Chapelle' 'Europe' 'Notre-Dame-des-Champs'\n",
      " 'Madeleine' 'Croulebarbe' 'Porte-Saint-Martin' 'Bel-Air'\n",
      " 'Plaine de Monceaux' 'Petit-Montrouge' \"St-Germain-l'Auxerrois\"\n",
      " 'Faubourg-du-Roule' 'Arts-et-Metiers' 'Montparnasse' 'Champs-Elysées'\n",
      " 'Saint-Gervais' 'Saint-Germain-des-Prés' 'Sainte-Avoie' 'Pont-de-Flandre'\n",
      " 'Invalides' 'Gare' 'Val-de-Grace' 'Place-Vendôme' 'Palais-Royal']\n"
     ]
    }
   ],
   "source": [
    "quar_list_airbnb_new = df_sample.regular_neighborhood.unique()\n",
    "\n",
    "print(quar_list_airbnb_new)"
   ]
  },
  {
   "cell_type": "code",
   "execution_count": 41,
   "metadata": {
    "collapsed": false,
    "deletable": true,
    "editable": true
   },
   "outputs": [],
   "source": [
    "for q in quar_list_airbnb_new:\n",
    "    if q not in quar_list:\n",
    "        print(q)"
   ]
  },
  {
   "cell_type": "code",
   "execution_count": 7,
   "metadata": {
    "collapsed": false,
    "deletable": true,
    "editable": true
   },
   "outputs": [
    {
     "data": {
      "text/plain": [
       "<matplotlib.axes._subplots.AxesSubplot at 0x120186da0>"
      ]
     },
     "execution_count": 7,
     "metadata": {},
     "output_type": "execute_result"
    },
    {
     "data": {
      "image/png": "[encoded data removed]",
      "text/plain": [
       "<Figure size 432x288 with 1 Axes>"
      ]
     },
     "metadata": {},
     "output_type": "display_data"
    }
   ],
   "source": [
    "quar_bg_json.plot()"
   ]
  },
  {
   "cell_type": "markdown",
   "metadata": {
    "deletable": true,
    "editable": true
   },
   "source": [
    "### Arrondissements de Paris"
   ]
  },
  {
   "cell_type": "code",
   "execution_count": 92,
   "metadata": {
    "collapsed": false,
    "deletable": true,
    "editable": true
   },
   "outputs": [],
   "source": [
    "arr_bg_json = gpd.read_file('paris_bg_maps/arrondissements/arrondissements.geojson')\n",
    "arr_bg_json = arr_bg_json.sort_values(by='c_arinsee').reset_index(drop=True)\n",
    "\n",
    "arr_bg_json = arr_bg_json.to_crs(epsg=4326)\n"
   ]
  },
  {
   "cell_type": "code",
   "execution_count": 93,
   "metadata": {
    "collapsed": false,
    "deletable": true,
    "editable": true
   },
   "outputs": [
    {
     "data": {
      "text/html": [
       "<div>\n",
       "<style scoped>\n",
       "    .dataframe tbody tr th:only-of-type {\n",
       "        vertical-align: middle;\n",
       "    }\n",
       "\n",
       "    .dataframe tbody tr th {\n",
       "        vertical-align: top;\n",
       "    }\n",
       "\n",
       "    .dataframe thead th {\n",
       "        text-align: right;\n",
       "    }\n",
       "</style>\n",
       "<table border=\"1\" class=\"dataframe\">\n",
       "  <thead>\n",
       "    <tr style=\"text-align: right;\">\n",
       "      <th></th>\n",
       "      <th>n_sq_co</th>\n",
       "      <th>perimetre</th>\n",
       "      <th>objectid</th>\n",
       "      <th>l_ar</th>\n",
       "      <th>surface</th>\n",
       "      <th>longueur</th>\n",
       "      <th>n_sq_ar</th>\n",
       "      <th>l_aroff</th>\n",
       "      <th>c_arinsee</th>\n",
       "      <th>c_ar</th>\n",
       "      <th>geometry</th>\n",
       "    </tr>\n",
       "  </thead>\n",
       "  <tbody>\n",
       "    <tr>\n",
       "      <th>0</th>\n",
       "      <td>750001537</td>\n",
       "      <td>6054.936862</td>\n",
       "      <td>1</td>\n",
       "      <td>1er Ardt</td>\n",
       "      <td>1.824613e+06</td>\n",
       "      <td>6054.680862</td>\n",
       "      <td>750000001</td>\n",
       "      <td>Louvre</td>\n",
       "      <td>75101</td>\n",
       "      <td>1</td>\n",
       "      <td>POLYGON ((2.328007329038849 48.86991742140715,...</td>\n",
       "    </tr>\n",
       "    <tr>\n",
       "      <th>1</th>\n",
       "      <td>750001537</td>\n",
       "      <td>4554.104360</td>\n",
       "      <td>2</td>\n",
       "      <td>2ème Ardt</td>\n",
       "      <td>9.911537e+05</td>\n",
       "      <td>4553.938764</td>\n",
       "      <td>750000002</td>\n",
       "      <td>Bourse</td>\n",
       "      <td>75102</td>\n",
       "      <td>2</td>\n",
       "      <td>POLYGON ((2.351518483670821 48.8644258050741, ...</td>\n",
       "    </tr>\n",
       "  </tbody>\n",
       "</table>\n",
       "</div>"
      ],
      "text/plain": [
       "     n_sq_co    perimetre  objectid       l_ar       surface     longueur  \\\n",
       "0  750001537  6054.936862         1   1er Ardt  1.824613e+06  6054.680862   \n",
       "1  750001537  4554.104360         2  2ème Ardt  9.911537e+05  4553.938764   \n",
       "\n",
       "     n_sq_ar l_aroff  c_arinsee  c_ar  \\\n",
       "0  750000001  Louvre      75101     1   \n",
       "1  750000002  Bourse      75102     2   \n",
       "\n",
       "                                            geometry  \n",
       "0  POLYGON ((2.328007329038849 48.86991742140715,...  \n",
       "1  POLYGON ((2.351518483670821 48.8644258050741, ...  "
      ]
     },
     "execution_count": 93,
     "metadata": {},
     "output_type": "execute_result"
    }
   ],
   "source": [
    "arr_bg_json.head(2)"
   ]
  },
  {
   "cell_type": "code",
   "execution_count": 94,
   "metadata": {
    "collapsed": false,
    "deletable": true,
    "editable": true
   },
   "outputs": [
    {
     "data": {
      "text/plain": [
       "'Saint-Georges'"
      ]
     },
     "execution_count": 94,
     "metadata": {},
     "output_type": "execute_result"
    },
    {
     "data": {
      "text/plain": [
       "'Opéra'"
      ]
     },
     "execution_count": 94,
     "metadata": {},
     "output_type": "execute_result"
    }
   ],
   "source": [
    "line=df.iloc[1,:]\n",
    "line.neighborhood\n",
    "\n",
    "assign_quartier(line.latitude, line.longitude, arr_bg_json, 'l_aroff')"
   ]
  },
  {
   "cell_type": "code",
   "execution_count": null,
   "metadata": {
    "collapsed": true,
    "deletable": true,
    "editable": true
   },
   "outputs": [],
   "source": []
  },
  {
   "cell_type": "code",
   "execution_count": 77,
   "metadata": {
    "collapsed": false,
    "deletable": true,
    "editable": true
   },
   "outputs": [
    {
     "name": "stdout",
     "output_type": "stream",
     "text": [
      "CPU times: user 46.3 s, sys: 917 ms, total: 47.2 s\n",
      "Wall time: 1min 5s\n"
     ]
    }
   ],
   "source": [
    "%%time\n",
    "\n",
    "df_sample['arrondissement'] = df_sample.apply(lambda row: assign_quartier(row.latitude ,row.longitude,arr_bg_json, 'l_aroff' ), axis=1)\n",
    "\n",
    "df_sample['arrondissement_num']=df_sample.arrondissement.map(n_to_arr_dict)"
   ]
  },
  {
   "cell_type": "code",
   "execution_count": 78,
   "metadata": {
    "collapsed": false,
    "deletable": true,
    "editable": true,
    "scrolled": true
   },
   "outputs": [
    {
     "data": {
      "text/html": [
       "<div>\n",
       "<style scoped>\n",
       "    .dataframe tbody tr th:only-of-type {\n",
       "        vertical-align: middle;\n",
       "    }\n",
       "\n",
       "    .dataframe tbody tr th {\n",
       "        vertical-align: top;\n",
       "    }\n",
       "\n",
       "    .dataframe thead th {\n",
       "        text-align: right;\n",
       "    }\n",
       "</style>\n",
       "<table border=\"1\" class=\"dataframe\">\n",
       "  <thead>\n",
       "    <tr style=\"text-align: right;\">\n",
       "      <th></th>\n",
       "      <th>accommodates</th>\n",
       "      <th>bathrooms</th>\n",
       "      <th>bedrooms</th>\n",
       "      <th>date_taken</th>\n",
       "      <th>host_id</th>\n",
       "      <th>last_modified</th>\n",
       "      <th>latitude</th>\n",
       "      <th>location</th>\n",
       "      <th>longitude</th>\n",
       "      <th>minstay</th>\n",
       "      <th>...</th>\n",
       "      <th>overall_satisfaction</th>\n",
       "      <th>price</th>\n",
       "      <th>property_type</th>\n",
       "      <th>reviews</th>\n",
       "      <th>room_id</th>\n",
       "      <th>room_type</th>\n",
       "      <th>regular_neighborhood</th>\n",
       "      <th>regular_neighborhood_num</th>\n",
       "      <th>arrondissement</th>\n",
       "      <th>arrondissement_num</th>\n",
       "    </tr>\n",
       "  </thead>\n",
       "  <tbody>\n",
       "    <tr>\n",
       "      <th>290888</th>\n",
       "      <td>2.0</td>\n",
       "      <td>NaN</td>\n",
       "      <td>1.0</td>\n",
       "      <td>2016-08</td>\n",
       "      <td>43535912.0</td>\n",
       "      <td>2016-08-10 19:09:54.697128</td>\n",
       "      <td>48.844350</td>\n",
       "      <td>NaN</td>\n",
       "      <td>2.295040</td>\n",
       "      <td>2.0</td>\n",
       "      <td>...</td>\n",
       "      <td>NaN</td>\n",
       "      <td>69.0</td>\n",
       "      <td>NaN</td>\n",
       "      <td>0</td>\n",
       "      <td>13860694</td>\n",
       "      <td>Entire home/apt</td>\n",
       "      <td>Grenelle</td>\n",
       "      <td>59</td>\n",
       "      <td>Vaugirard</td>\n",
       "      <td>15</td>\n",
       "    </tr>\n",
       "    <tr>\n",
       "      <th>622121</th>\n",
       "      <td>2.0</td>\n",
       "      <td>NaN</td>\n",
       "      <td>0.0</td>\n",
       "      <td>2017-04</td>\n",
       "      <td>35364848.0</td>\n",
       "      <td>2017-04-16 06:10:31.352388</td>\n",
       "      <td>48.862213</td>\n",
       "      <td>0101000020E6100000DE02098A1FE30240D097DEFE5C6E...</td>\n",
       "      <td>2.360900</td>\n",
       "      <td>NaN</td>\n",
       "      <td>...</td>\n",
       "      <td>0.0</td>\n",
       "      <td>43.0</td>\n",
       "      <td>NaN</td>\n",
       "      <td>0</td>\n",
       "      <td>6904558</td>\n",
       "      <td>Entire home/apt</td>\n",
       "      <td>Enfants-Rouges</td>\n",
       "      <td>10</td>\n",
       "      <td>Temple</td>\n",
       "      <td>3</td>\n",
       "    </tr>\n",
       "    <tr>\n",
       "      <th>385545</th>\n",
       "      <td>2.0</td>\n",
       "      <td>NaN</td>\n",
       "      <td>1.0</td>\n",
       "      <td>2017-01</td>\n",
       "      <td>13429162.0</td>\n",
       "      <td>2017-01-01 23:21:26.976566</td>\n",
       "      <td>48.895755</td>\n",
       "      <td>NaN</td>\n",
       "      <td>2.322800</td>\n",
       "      <td>NaN</td>\n",
       "      <td>...</td>\n",
       "      <td>5.0</td>\n",
       "      <td>52.0</td>\n",
       "      <td>NaN</td>\n",
       "      <td>16</td>\n",
       "      <td>15150496</td>\n",
       "      <td>Private room</td>\n",
       "      <td>Epinettes</td>\n",
       "      <td>68</td>\n",
       "      <td>Batignolles-Monceau</td>\n",
       "      <td>17</td>\n",
       "    </tr>\n",
       "    <tr>\n",
       "      <th>669589</th>\n",
       "      <td>2.0</td>\n",
       "      <td>NaN</td>\n",
       "      <td>1.0</td>\n",
       "      <td>2017-04</td>\n",
       "      <td>6147063.0</td>\n",
       "      <td>2017-04-27 06:19:47.372961</td>\n",
       "      <td>48.869708</td>\n",
       "      <td>0101000020E61000002EFEB627484C0340E8887C97526F...</td>\n",
       "      <td>2.412247</td>\n",
       "      <td>NaN</td>\n",
       "      <td>...</td>\n",
       "      <td>5.0</td>\n",
       "      <td>31.0</td>\n",
       "      <td>NaN</td>\n",
       "      <td>4</td>\n",
       "      <td>17968815</td>\n",
       "      <td>Private room</td>\n",
       "      <td>Saint-Fargeau</td>\n",
       "      <td>78</td>\n",
       "      <td>Ménilmontant</td>\n",
       "      <td>20</td>\n",
       "    </tr>\n",
       "    <tr>\n",
       "      <th>661431</th>\n",
       "      <td>6.0</td>\n",
       "      <td>NaN</td>\n",
       "      <td>2.0</td>\n",
       "      <td>2017-04</td>\n",
       "      <td>4237797.0</td>\n",
       "      <td>2017-04-26 19:46:41.220674</td>\n",
       "      <td>48.870525</td>\n",
       "      <td>0101000020E6100000802C4487C0510240DAACFA5C6D6F...</td>\n",
       "      <td>2.289918</td>\n",
       "      <td>NaN</td>\n",
       "      <td>...</td>\n",
       "      <td>NaN</td>\n",
       "      <td>449.0</td>\n",
       "      <td>NaN</td>\n",
       "      <td>0</td>\n",
       "      <td>7398784</td>\n",
       "      <td>Entire home/apt</td>\n",
       "      <td>Chaillot</td>\n",
       "      <td>64</td>\n",
       "      <td>Passy</td>\n",
       "      <td>16</td>\n",
       "    </tr>\n",
       "  </tbody>\n",
       "</table>\n",
       "<p>5 rows × 22 columns</p>\n",
       "</div>"
      ],
      "text/plain": [
       "        accommodates  bathrooms  bedrooms date_taken     host_id  \\\n",
       "290888           2.0        NaN       1.0    2016-08  43535912.0   \n",
       "622121           2.0        NaN       0.0    2017-04  35364848.0   \n",
       "385545           2.0        NaN       1.0    2017-01  13429162.0   \n",
       "669589           2.0        NaN       1.0    2017-04   6147063.0   \n",
       "661431           6.0        NaN       2.0    2017-04   4237797.0   \n",
       "\n",
       "                     last_modified   latitude  \\\n",
       "290888  2016-08-10 19:09:54.697128  48.844350   \n",
       "622121  2017-04-16 06:10:31.352388  48.862213   \n",
       "385545  2017-01-01 23:21:26.976566  48.895755   \n",
       "669589  2017-04-27 06:19:47.372961  48.869708   \n",
       "661431  2017-04-26 19:46:41.220674  48.870525   \n",
       "\n",
       "                                                 location  longitude  minstay  \\\n",
       "290888                                                NaN   2.295040      2.0   \n",
       "622121  0101000020E6100000DE02098A1FE30240D097DEFE5C6E...   2.360900      NaN   \n",
       "385545                                                NaN   2.322800      NaN   \n",
       "669589  0101000020E61000002EFEB627484C0340E8887C97526F...   2.412247      NaN   \n",
       "661431  0101000020E6100000802C4487C0510240DAACFA5C6D6F...   2.289918      NaN   \n",
       "\n",
       "               ...         overall_satisfaction  price  property_type  \\\n",
       "290888         ...                          NaN   69.0            NaN   \n",
       "622121         ...                          0.0   43.0            NaN   \n",
       "385545         ...                          5.0   52.0            NaN   \n",
       "669589         ...                          5.0   31.0            NaN   \n",
       "661431         ...                          NaN  449.0            NaN   \n",
       "\n",
       "        reviews   room_id        room_type  regular_neighborhood  \\\n",
       "290888        0  13860694  Entire home/apt              Grenelle   \n",
       "622121        0   6904558  Entire home/apt        Enfants-Rouges   \n",
       "385545       16  15150496     Private room             Epinettes   \n",
       "669589        4  17968815     Private room         Saint-Fargeau   \n",
       "661431        0   7398784  Entire home/apt              Chaillot   \n",
       "\n",
       "       regular_neighborhood_num       arrondissement  arrondissement_num  \n",
       "290888                       59            Vaugirard                  15  \n",
       "622121                       10               Temple                   3  \n",
       "385545                       68  Batignolles-Monceau                  17  \n",
       "669589                       78         Ménilmontant                  20  \n",
       "661431                       64                Passy                  16  \n",
       "\n",
       "[5 rows x 22 columns]"
      ]
     },
     "execution_count": 78,
     "metadata": {},
     "output_type": "execute_result"
    }
   ],
   "source": [
    "df_sample.head()"
   ]
  },
  {
   "cell_type": "code",
   "execution_count": 179,
   "metadata": {
    "collapsed": false,
    "deletable": true,
    "editable": true
   },
   "outputs": [
    {
     "data": {
      "text/plain": [
       "<matplotlib.axes._subplots.AxesSubplot at 0x11c654320>"
      ]
     },
     "execution_count": 179,
     "metadata": {},
     "output_type": "execute_result"
    },
    {
     "data": {
      "image/png": "[encoded data removed]",
      "text/plain": [
       "<Figure size 432x288 with 1 Axes>"
      ]
     },
     "metadata": {},
     "output_type": "display_data"
    }
   ],
   "source": [
    "arr_bg_json.plot()"
   ]
  },
  {
   "cell_type": "code",
   "execution_count": 95,
   "metadata": {
    "collapsed": true,
    "deletable": true,
    "editable": true
   },
   "outputs": [],
   "source": [
    "df = pd.read_csv('airbnb_paris_2013_2018_half_full.csv')"
   ]
  },
  {
   "cell_type": "code",
   "execution_count": 97,
   "metadata": {
    "collapsed": false,
    "deletable": true,
    "editable": true
   },
   "outputs": [
    {
     "data": {
      "text/html": [
       "<div>\n",
       "<style scoped>\n",
       "    .dataframe tbody tr th:only-of-type {\n",
       "        vertical-align: middle;\n",
       "    }\n",
       "\n",
       "    .dataframe tbody tr th {\n",
       "        vertical-align: top;\n",
       "    }\n",
       "\n",
       "    .dataframe thead th {\n",
       "        text-align: right;\n",
       "    }\n",
       "</style>\n",
       "<table border=\"1\" class=\"dataframe\">\n",
       "  <thead>\n",
       "    <tr style=\"text-align: right;\">\n",
       "      <th></th>\n",
       "      <th>Unnamed: 0</th>\n",
       "      <th>accommodates</th>\n",
       "      <th>bathrooms</th>\n",
       "      <th>bedrooms</th>\n",
       "      <th>date_taken</th>\n",
       "      <th>host_id</th>\n",
       "      <th>last_modified</th>\n",
       "      <th>latitude</th>\n",
       "      <th>location</th>\n",
       "      <th>longitude</th>\n",
       "      <th>minstay</th>\n",
       "      <th>name</th>\n",
       "      <th>neighborhood</th>\n",
       "      <th>overall_satisfaction</th>\n",
       "      <th>price</th>\n",
       "      <th>property_type</th>\n",
       "      <th>reviews</th>\n",
       "      <th>room_id</th>\n",
       "      <th>room_type</th>\n",
       "      <th>regular_neighborhood</th>\n",
       "    </tr>\n",
       "  </thead>\n",
       "  <tbody>\n",
       "    <tr>\n",
       "      <th>0</th>\n",
       "      <td>0</td>\n",
       "      <td>2.0</td>\n",
       "      <td>NaN</td>\n",
       "      <td>NaN</td>\n",
       "      <td>2013-11</td>\n",
       "      <td>2883.0</td>\n",
       "      <td>2013-12-05 01:06:15</td>\n",
       "      <td>48.852169</td>\n",
       "      <td>NaN</td>\n",
       "      <td>2.347332</td>\n",
       "      <td>1.0</td>\n",
       "      <td>NaN</td>\n",
       "      <td>Sorbonne</td>\n",
       "      <td>4.0</td>\n",
       "      <td>119.0</td>\n",
       "      <td>NaN</td>\n",
       "      <td>26</td>\n",
       "      <td>2623</td>\n",
       "      <td>Private room</td>\n",
       "      <td>Sorbonne</td>\n",
       "    </tr>\n",
       "    <tr>\n",
       "      <th>1</th>\n",
       "      <td>1</td>\n",
       "      <td>2.0</td>\n",
       "      <td>NaN</td>\n",
       "      <td>NaN</td>\n",
       "      <td>2013-11</td>\n",
       "      <td>3416.0</td>\n",
       "      <td>2013-12-01 21:27:35</td>\n",
       "      <td>48.883100</td>\n",
       "      <td>NaN</td>\n",
       "      <td>2.334202</td>\n",
       "      <td>2.0</td>\n",
       "      <td>NaN</td>\n",
       "      <td>Saint-Georges</td>\n",
       "      <td>5.0</td>\n",
       "      <td>74.0</td>\n",
       "      <td>NaN</td>\n",
       "      <td>37</td>\n",
       "      <td>3024</td>\n",
       "      <td>Entire home/apt</td>\n",
       "      <td>Saint-Georges</td>\n",
       "    </tr>\n",
       "    <tr>\n",
       "      <th>2</th>\n",
       "      <td>2</td>\n",
       "      <td>2.0</td>\n",
       "      <td>NaN</td>\n",
       "      <td>1.0</td>\n",
       "      <td>2013-11</td>\n",
       "      <td>3631.0</td>\n",
       "      <td>2013-12-01 22:03:16</td>\n",
       "      <td>48.833494</td>\n",
       "      <td>NaN</td>\n",
       "      <td>2.318518</td>\n",
       "      <td>2.0</td>\n",
       "      <td>NaN</td>\n",
       "      <td>Plaisance</td>\n",
       "      <td>NaN</td>\n",
       "      <td>126.0</td>\n",
       "      <td>NaN</td>\n",
       "      <td>0</td>\n",
       "      <td>3109</td>\n",
       "      <td>Entire home/apt</td>\n",
       "      <td>Plaisance</td>\n",
       "    </tr>\n",
       "    <tr>\n",
       "      <th>3</th>\n",
       "      <td>3</td>\n",
       "      <td>2.0</td>\n",
       "      <td>NaN</td>\n",
       "      <td>NaN</td>\n",
       "      <td>2013-11</td>\n",
       "      <td>6792.0</td>\n",
       "      <td>2013-12-01 21:28:01</td>\n",
       "      <td>48.865283</td>\n",
       "      <td>NaN</td>\n",
       "      <td>2.371150</td>\n",
       "      <td>3.0</td>\n",
       "      <td>NaN</td>\n",
       "      <td>Folie-Méricourt</td>\n",
       "      <td>5.0</td>\n",
       "      <td>147.0</td>\n",
       "      <td>NaN</td>\n",
       "      <td>2</td>\n",
       "      <td>4886</td>\n",
       "      <td>Entire home/apt</td>\n",
       "      <td>Folie-Méricourt</td>\n",
       "    </tr>\n",
       "    <tr>\n",
       "      <th>4</th>\n",
       "      <td>4</td>\n",
       "      <td>4.0</td>\n",
       "      <td>NaN</td>\n",
       "      <td>1.0</td>\n",
       "      <td>2013-11</td>\n",
       "      <td>6792.0</td>\n",
       "      <td>2013-12-06 15:15:23</td>\n",
       "      <td>48.864090</td>\n",
       "      <td>NaN</td>\n",
       "      <td>2.356515</td>\n",
       "      <td>3.0</td>\n",
       "      <td>NaN</td>\n",
       "      <td>Arts-et-Metiers</td>\n",
       "      <td>4.5</td>\n",
       "      <td>208.0</td>\n",
       "      <td>NaN</td>\n",
       "      <td>5</td>\n",
       "      <td>4890</td>\n",
       "      <td>Entire home/apt</td>\n",
       "      <td>Arts-et-Metiers</td>\n",
       "    </tr>\n",
       "  </tbody>\n",
       "</table>\n",
       "</div>"
      ],
      "text/plain": [
       "   Unnamed: 0  accommodates  bathrooms  bedrooms date_taken  host_id  \\\n",
       "0           0           2.0        NaN       NaN    2013-11   2883.0   \n",
       "1           1           2.0        NaN       NaN    2013-11   3416.0   \n",
       "2           2           2.0        NaN       1.0    2013-11   3631.0   \n",
       "3           3           2.0        NaN       NaN    2013-11   6792.0   \n",
       "4           4           4.0        NaN       1.0    2013-11   6792.0   \n",
       "\n",
       "         last_modified   latitude location  longitude  minstay name  \\\n",
       "0  2013-12-05 01:06:15  48.852169      NaN   2.347332      1.0  NaN   \n",
       "1  2013-12-01 21:27:35  48.883100      NaN   2.334202      2.0  NaN   \n",
       "2  2013-12-01 22:03:16  48.833494      NaN   2.318518      2.0  NaN   \n",
       "3  2013-12-01 21:28:01  48.865283      NaN   2.371150      3.0  NaN   \n",
       "4  2013-12-06 15:15:23  48.864090      NaN   2.356515      3.0  NaN   \n",
       "\n",
       "      neighborhood  overall_satisfaction  price property_type  reviews  \\\n",
       "0         Sorbonne                   4.0  119.0           NaN       26   \n",
       "1    Saint-Georges                   5.0   74.0           NaN       37   \n",
       "2        Plaisance                   NaN  126.0           NaN        0   \n",
       "3  Folie-Méricourt                   5.0  147.0           NaN        2   \n",
       "4  Arts-et-Metiers                   4.5  208.0           NaN        5   \n",
       "\n",
       "   room_id        room_type regular_neighborhood  \n",
       "0     2623     Private room             Sorbonne  \n",
       "1     3024  Entire home/apt        Saint-Georges  \n",
       "2     3109  Entire home/apt            Plaisance  \n",
       "3     4886  Entire home/apt      Folie-Méricourt  \n",
       "4     4890  Entire home/apt      Arts-et-Metiers  "
      ]
     },
     "execution_count": 97,
     "metadata": {},
     "output_type": "execute_result"
    }
   ],
   "source": [
    "df.head()"
   ]
  },
  {
   "cell_type": "code",
   "execution_count": 99,
   "metadata": {
    "collapsed": false,
    "deletable": true,
    "editable": true
   },
   "outputs": [
    {
     "name": "stdout",
     "output_type": "stream",
     "text": [
      "CPU times: user 56min 42s, sys: 18.3 s, total: 57min\n",
      "Wall time: 56min 57s\n"
     ]
    }
   ],
   "source": [
    "%%time\n",
    "\n",
    "df['arrondissement'] = df.apply(lambda row: assign_quartier(row.latitude ,row.longitude,arr_bg_json, 'l_aroff' ), axis=1)\n",
    "\n",
    "df['arrondissement_num']=df.arrondissement.map(n_to_arr_dict)\n",
    "df.to_csv('airbnb_paris_2013_2018_full.csv')"
   ]
  }
 ],
 "metadata": {
  "kernelspec": {
   "display_name": "Python 3",
   "language": "python",
   "name": "python3"
  },
  "language_info": {
   "codemirror_mode": {
    "name": "ipython",
    "version": 3
   },
   "file_extension": ".py",
   "mimetype": "text/x-python",
   "name": "python",
   "nbconvert_exporter": "python",
   "pygments_lexer": "ipython3",
   "version": "3.6.5"
  }
 },
 "nbformat": 4,
 "nbformat_minor": 2
}
